{
 "cells": [
  {
   "cell_type": "markdown",
   "metadata": {},
   "source": [
    "# **IPL 2023 Winning Prediction 🏆 and Full Data Analysis**\n",
    "\n",
    "\n",
    "\n",
    "<img src = 'https://www.insidesport.in/wp-content/uploads/2022/01/eng-banner-2.jpg'>\n",
    "\n",
    "\n",
    "\n",
    "## **Contents in this Project**\n",
    "\n",
    "1. Data Loading and Summary Checking\n",
    "2. Data Cleaning\n",
    "3. Feature Extraction\n",
    "4. EDA and Data Visualisation\n",
    "5. Best Player Clusters since 2008 based on Performance\n",
    "6. IPL Match Winning Prediction 🏆\n",
    "\n"
   ]
  },
  {
   "cell_type": "code",
   "execution_count": null,
   "metadata": {},
   "outputs": [],
   "source": [
    "import pandas as pd\n",
    "import numpy as np\n",
    "import matplotlib.pyplot as plt\n",
    "import seaborn as sns\n",
    "\n",
    "import warnings\n",
    "warnings.filterwarnings(\"ignore\")\n",
    "pd.set_option('display.max_columns',None)"
   ]
  },
  {
   "cell_type": "code",
   "execution_count": null,
   "metadata": {},
   "outputs": [],
   "source": [
    "matches = pd.read_csv('neerajcodes888/IPL-2023-Victory-Analysis-with-Prediction/Dataset/IPL_Matches_2008_2022.csv')\n",
    "balls = pd.read_csv('neerajcodes888/IPL-2023-Victory-Analysis-with-Prediction/Dataset/IPL_Ball_by_Ball_2008_2022.csv')\n",
    "matches.head()"
   ]
  }
 ],
 "metadata": {
  "language_info": {
   "name": "python"
  }
 },
 "nbformat": 4,
 "nbformat_minor": 2
}
