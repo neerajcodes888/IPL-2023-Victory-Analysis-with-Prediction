{
 "cells": [
  {
   "cell_type": "markdown",
   "metadata": {},
   "source": [
    "# **IPL 2023  Full Data Analysis**\n",
    "\n",
    "\n",
    "\n",
    "<img src = 'https://www.insidesport.in/wp-content/uploads/2022/01/eng-banner-2.jpg'>\n",
    "\n",
    "\n",
    "\n",
    "## **Contents in this Project**\n",
    "\n",
    "1. Data Loading and Summary Checking\n",
    "2. Data Cleaning\n",
    "3. Feature Extraction\n",
    "4. EDA and Data Visualisation\n",
    "5. Best Player Clusters since 2008 based on Performance\n",
    "\n",
    "\n"
   ]
  },
  {
   "cell_type": "code",
   "execution_count": 1,
   "metadata": {},
   "outputs": [],
   "source": [
    "import pandas as pd\n",
    "import numpy as np\n",
    "import matplotlib.pyplot as plt\n",
    "import seaborn as sns\n",
    "\n",
    "import warnings\n",
    "warnings.filterwarnings(\"ignore\")\n",
    "pd.set_option('display.max_columns',None)"
   ]
  }
 ],
 "metadata": {
  "kernelspec": {
   "display_name": "Python 3",
   "language": "python",
   "name": "python3"
  },
  "language_info": {
   "codemirror_mode": {
    "name": "ipython",
    "version": 3
   },
   "file_extension": ".py",
   "mimetype": "text/x-python",
   "name": "python",
   "nbconvert_exporter": "python",
   "pygments_lexer": "ipython3",
   "version": "3.10.13"
  }
 },
 "nbformat": 4,
 "nbformat_minor": 2
}
