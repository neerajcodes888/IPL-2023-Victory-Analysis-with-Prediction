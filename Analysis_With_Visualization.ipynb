{
 "cells": [
  {
   "cell_type": "markdown",
   "metadata": {},
   "source": [
    "# **IPL 2023  Full Data Analysis**\n",
    "\n",
    "\n",
    "\n",
    "<img src = 'https://www.insidesport.in/wp-content/uploads/2022/01/eng-banner-2.jpg'>\n",
    "\n",
    "\n",
    "\n",
    "## **Contents in this Project**\n",
    "\n",
    "1. Data Loading and Summary Checking\n",
    "2. Data Cleaning\n",
    "3. Feature Extraction\n",
    "4. EDA and Data Visualisation\n",
    "5. Best Player Clusters since 2008 based on Performance\n",
    "\n",
    "\n"
   ]
  }
 ],
 "metadata": {
  "language_info": {
   "name": "python"
  }
 },
 "nbformat": 4,
 "nbformat_minor": 2
}
