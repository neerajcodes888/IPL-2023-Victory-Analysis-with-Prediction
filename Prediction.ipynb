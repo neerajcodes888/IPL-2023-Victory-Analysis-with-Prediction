{
 "cells": [
  {
   "cell_type": "markdown",
   "metadata": {},
   "source": [
    "# ** IPL 2023 Winning Prediction 🏆 **\n",
    "\n",
    "\n",
    "\n",
    "<img src = 'https://www.insidesport.in/wp-content/uploads/2022/01/eng-banner-2.jpg'>"
   ]
  },
  {
   "cell_type": "markdown",
   "metadata": {},
   "source": [
    "## Let's Build the Winning Prediction Model Now"
   ]
  },
  {
   "cell_type": "code",
   "execution_count": null,
   "metadata": {
    "vscode": {
     "languageId": "plaintext"
    }
   },
   "outputs": [],
   "source": [
    "matches = pd.read_csv('/workspaces/IPL-2023-Victory-Analysis-with-Prediction/Dataset/IPL_Matches_2008_2022.csv')\n",
    "balls = pd.read_csv('/workspaces/IPL-2023-Victory-Analysis-with-Prediction/Dataset/IPL_Ball_by_Ball_2008_2022.csv')"
   ]
  }
 ],
 "metadata": {
  "language_info": {
   "name": "python"
  }
 },
 "nbformat": 4,
 "nbformat_minor": 2
}
