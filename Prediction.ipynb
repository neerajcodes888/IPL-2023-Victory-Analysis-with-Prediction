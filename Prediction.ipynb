{
 "cells": [
  {
   "cell_type": "code",
   "execution_count": null,
   "metadata": {},
   "outputs": [],
   "source": [
    "# **IPL 2023 Winning Prediction 🏆 **\n",
    "\n",
    "\n",
    "\n",
    "<img src = 'https://www.insidesport.in/wp-content/uploads/2022/01/eng-banner-2.jpg'>\n",
    "\n",
    "\n",
    "\n"
   ]
  },
  {
   "cell_type": "markdown",
   "metadata": {},
   "source": []
  }
 ],
 "metadata": {
  "language_info": {
   "name": "python"
  }
 },
 "nbformat": 4,
 "nbformat_minor": 2
}
