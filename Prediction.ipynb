{
 "cells": [
  {
   "cell_type": "markdown",
   "metadata": {},
   "source": [
    "# ** IPL 2023 Winning Prediction 🏆 **\n",
    "\n",
    "\n",
    "\n",
    "<img src = 'https://www.insidesport.in/wp-content/uploads/2022/01/eng-banner-2.jpg'>"
   ]
  }
 ],
 "metadata": {
  "language_info": {
   "name": "python"
  }
 },
 "nbformat": 4,
 "nbformat_minor": 2
}
